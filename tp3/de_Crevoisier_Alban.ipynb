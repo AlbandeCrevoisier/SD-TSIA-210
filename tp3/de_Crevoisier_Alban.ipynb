{
 "cells": [
  {
   "cell_type": "markdown",
   "metadata": {},
   "source": [
    "# Bagging and random forests"
   ]
  },
  {
   "cell_type": "markdown",
   "metadata": {},
   "source": [
    "## Model aggregation"
   ]
  },
  {
   "cell_type": "markdown",
   "metadata": {},
   "source": [
    "### Question 1"
   ]
  },
  {
   "cell_type": "markdown",
   "metadata": {},
   "source": [
    "Having $L$ classifiers with a probability of correct prediction $p$ is equivalent to repeating independantly $L$ times a prediction with a probability of success $p$, hence the binomial law."
   ]
  },
  {
   "cell_type": "markdown",
   "metadata": {},
   "source": [
    "The probability of correct prediction is:\n",
    "$\\mathbb{P}(X > \\frac{L}{2}) = \\sum_{i=\\frac{L}{2}+1}^{L}\\binom{L}{i}p^i(1-p)^{L-i}$\n",
    "\n",
    "In our case, that means:\n",
    "$\\mathbb{P}(X > 5) = \\sum_{i=6}^{10}\\binom{10}{i}0.7^i0.3^{10-i}$"
   ]
  },
  {
   "cell_type": "code",
   "execution_count": 4,
   "metadata": {},
   "outputs": [
    {
     "name": "stdout",
     "output_type": "stream",
     "text": [
      "84.97316674 %\n"
     ]
    }
   ],
   "source": [
    "from scipy.stats import binom\n",
    "print((1-binom.cdf(5, 10, 0.7))*100, \"%\")"
   ]
  },
  {
   "cell_type": "markdown",
   "metadata": {},
   "source": [
    "Even with rather inefficient classifiers ($p=0.7$), making $L=10$ of them vote is enough to get a much better result."
   ]
  },
  {
   "cell_type": "markdown",
   "metadata": {},
   "source": [
    "## Bagging"
   ]
  },
  {
   "cell_type": "markdown",
   "metadata": {},
   "source": [
    "### Question 1"
   ]
  },
  {
   "cell_type": "code",
   "execution_count": null,
   "metadata": {},
   "outputs": [],
   "source": [
    "import numpy as np\n",
    "from sklearn.tree import DecisionTreeRegressor\n",
    "from sklearn.ensemble import BaggingRegressor\n",
    "import matplotlib.pyplot as plt\n",
    "# Create a random dataset\n",
    "rng = np.random.RandomState(1)\n",
    "X = np.sort(5 * rng.rand(80, 1), axis=0)\n",
    "y = np.sin(X).ravel()\n",
    "y[::5] += 1 * (0.5 - rng.rand(16))\n",
    "n_estimators = 10 # L in the text\n",
    "tree_max_depth = 10\n",
    "bagging_max_depth = 10\n",
    "# TODO define the regressor by bagging stumps\n",
    "# tree = ...\n",
    "tree.fit(X, y)\n",
    "# bagging = BaggingRegressor(...)\n",
    "bagging.fit(X, y)\n",
    "# Predict\n",
    "X_test = np.arange(0.0, 5.0, 0.01)[:, np.newaxis]\n",
    "y_tree = tree.predict(X_test)\n",
    "y_bagging = bagging.predict(X_test)\n",
    "# Plot the results\n",
    "plt.figure(figsize=(12, 8))\n",
    "plt.plot(X, y, 'o', c=\"k\", label=\"data\")\n",
    "# TODO add plots for Bagging/Tree\n",
    "plt.title(\"Decision Tree Regression\")\n",
    "plt.legend(loc=1, numpoints=1)\n",
    "plt.show()\n"
   ]
  }
 ],
 "metadata": {
  "kernelspec": {
   "display_name": "Python 3",
   "language": "python",
   "name": "python3"
  },
  "language_info": {
   "codemirror_mode": {
    "name": "ipython",
    "version": 3
   },
   "file_extension": ".py",
   "mimetype": "text/x-python",
   "name": "python",
   "nbconvert_exporter": "python",
   "pygments_lexer": "ipython3",
   "version": "3.6.4"
  }
 },
 "nbformat": 4,
 "nbformat_minor": 2
}
